{
  "cells": [
    {
      "cell_type": "code",
      "execution_count": null,
      "id": "c243bda3",
      "metadata": {
        "colab": {
          "base_uri": "https://localhost:8080/"
        },
        "id": "c243bda3",
        "outputId": "fe2869ed-ee82-45e5-9174-dc483a84adb4"
      },
      "outputs": [
        {
          "output_type": "stream",
          "name": "stdout",
          "text": [
            "Requirement already satisfied: gym in /usr/local/lib/python3.10/dist-packages (0.25.2)\n",
            "Requirement already satisfied: numpy>=1.18.0 in /usr/local/lib/python3.10/dist-packages (from gym) (1.22.4)\n",
            "Requirement already satisfied: cloudpickle>=1.2.0 in /usr/local/lib/python3.10/dist-packages (from gym) (2.2.1)\n",
            "Requirement already satisfied: gym-notices>=0.0.4 in /usr/local/lib/python3.10/dist-packages (from gym) (0.0.8)\n"
          ]
        }
      ],
      "source": [
        "pip install gym"
      ]
    },
    {
      "cell_type": "code",
      "source": [
        "pip install gymnasium"
      ],
      "metadata": {
        "colab": {
          "base_uri": "https://localhost:8080/"
        },
        "id": "6zsEkOzCYvvm",
        "outputId": "cdec8c8b-f69f-4036-84ee-c4f4bda29e36"
      },
      "id": "6zsEkOzCYvvm",
      "execution_count": null,
      "outputs": [
        {
          "output_type": "stream",
          "name": "stdout",
          "text": [
            "Collecting gymnasium\n",
            "  Downloading gymnasium-0.29.0-py3-none-any.whl (953 kB)\n",
            "\u001b[2K     \u001b[90m━━━━━━━━━━━━━━━━━━━━━━━━━━━━━━━━━━━━━━━\u001b[0m \u001b[32m953.8/953.8 kB\u001b[0m \u001b[31m9.3 MB/s\u001b[0m eta \u001b[36m0:00:00\u001b[0m\n",
            "\u001b[?25hRequirement already satisfied: numpy>=1.21.0 in /usr/local/lib/python3.10/dist-packages (from gymnasium) (1.23.5)\n",
            "Requirement already satisfied: cloudpickle>=1.2.0 in /usr/local/lib/python3.10/dist-packages (from gymnasium) (2.2.1)\n",
            "Requirement already satisfied: typing-extensions>=4.3.0 in /usr/local/lib/python3.10/dist-packages (from gymnasium) (4.7.1)\n",
            "Collecting farama-notifications>=0.0.1 (from gymnasium)\n",
            "  Downloading Farama_Notifications-0.0.4-py3-none-any.whl (2.5 kB)\n",
            "Installing collected packages: farama-notifications, gymnasium\n",
            "Successfully installed farama-notifications-0.0.4 gymnasium-0.29.0\n"
          ]
        }
      ]
    },
    {
      "cell_type": "code",
      "execution_count": null,
      "id": "a65e3fec",
      "metadata": {
        "colab": {
          "base_uri": "https://localhost:8080/"
        },
        "id": "a65e3fec",
        "outputId": "06500cbc-681f-4b2e-c3a5-01d3bde70599"
      },
      "outputs": [
        {
          "output_type": "stream",
          "name": "stdout",
          "text": [
            "Requirement already satisfied: Ipython in /usr/local/lib/python3.10/dist-packages (7.34.0)\n",
            "Requirement already satisfied: setuptools>=18.5 in /usr/local/lib/python3.10/dist-packages (from Ipython) (67.7.2)\n",
            "Collecting jedi>=0.16 (from Ipython)\n",
            "  Downloading jedi-0.19.0-py2.py3-none-any.whl (1.6 MB)\n",
            "\u001b[2K     \u001b[90m━━━━━━━━━━━━━━━━━━━━━━━━━━━━━━━━━━━━━━━━\u001b[0m \u001b[32m1.6/1.6 MB\u001b[0m \u001b[31m7.2 MB/s\u001b[0m eta \u001b[36m0:00:00\u001b[0m\n",
            "\u001b[?25hRequirement already satisfied: decorator in /usr/local/lib/python3.10/dist-packages (from Ipython) (4.4.2)\n",
            "Requirement already satisfied: pickleshare in /usr/local/lib/python3.10/dist-packages (from Ipython) (0.7.5)\n",
            "Requirement already satisfied: traitlets>=4.2 in /usr/local/lib/python3.10/dist-packages (from Ipython) (5.7.1)\n",
            "Requirement already satisfied: prompt-toolkit!=3.0.0,!=3.0.1,<3.1.0,>=2.0.0 in /usr/local/lib/python3.10/dist-packages (from Ipython) (3.0.39)\n",
            "Requirement already satisfied: pygments in /usr/local/lib/python3.10/dist-packages (from Ipython) (2.14.0)\n",
            "Requirement already satisfied: backcall in /usr/local/lib/python3.10/dist-packages (from Ipython) (0.2.0)\n",
            "Requirement already satisfied: matplotlib-inline in /usr/local/lib/python3.10/dist-packages (from Ipython) (0.1.6)\n",
            "Requirement already satisfied: pexpect>4.3 in /usr/local/lib/python3.10/dist-packages (from Ipython) (4.8.0)\n",
            "Requirement already satisfied: parso<0.9.0,>=0.8.3 in /usr/local/lib/python3.10/dist-packages (from jedi>=0.16->Ipython) (0.8.3)\n",
            "Requirement already satisfied: ptyprocess>=0.5 in /usr/local/lib/python3.10/dist-packages (from pexpect>4.3->Ipython) (0.7.0)\n",
            "Requirement already satisfied: wcwidth in /usr/local/lib/python3.10/dist-packages (from prompt-toolkit!=3.0.0,!=3.0.1,<3.1.0,>=2.0.0->Ipython) (0.2.6)\n",
            "Installing collected packages: jedi\n",
            "Successfully installed jedi-0.19.0\n"
          ]
        }
      ],
      "source": [
        "pip install Ipython"
      ]
    },
    {
      "cell_type": "code",
      "execution_count": null,
      "id": "a09eddfc",
      "metadata": {
        "id": "a09eddfc"
      },
      "outputs": [],
      "source": [
        "import numpy as np\n",
        "import gymnasium as gym\n",
        "import random\n",
        "import time\n",
        "from IPython.display import clear_output"
      ]
    },
    {
      "cell_type": "markdown",
      "source": [],
      "metadata": {
        "id": "iZvMgkUkxNFu"
      },
      "id": "iZvMgkUkxNFu"
    },
    {
      "cell_type": "code",
      "execution_count": null,
      "id": "c191fd0d",
      "metadata": {
        "id": "c191fd0d"
      },
      "outputs": [],
      "source": [
        "# Create the environment\n",
        "env = gym.make('Taxi-v3', render_mode='ansi').env\n"
      ]
    },
    {
      "cell_type": "code",
      "execution_count": null,
      "id": "0d25c6b4",
      "metadata": {
        "colab": {
          "base_uri": "https://localhost:8080/"
        },
        "id": "0d25c6b4",
        "outputId": "502db6b7-d779-4529-f32c-0dddbc6b3706"
      },
      "outputs": [
        {
          "output_type": "stream",
          "name": "stdout",
          "text": [
            "[[0. 0. 0. 0. 0. 0.]\n",
            " [0. 0. 0. 0. 0. 0.]\n",
            " [0. 0. 0. 0. 0. 0.]\n",
            " ...\n",
            " [0. 0. 0. 0. 0. 0.]\n",
            " [0. 0. 0. 0. 0. 0.]\n",
            " [0. 0. 0. 0. 0. 0.]]\n"
          ]
        }
      ],
      "source": [
        "# Initialize the Q-table\n",
        "# A Q-Table helps us to find the best action for each state in the environment.\n",
        "state_space_size = env.observation_space.n # number of rows in q table\n",
        "action_space_size = env.action_space.n # number of columns in q table\n",
        "\n",
        "q_table = np.zeros((state_space_size, action_space_size)) #building and filling the q table with zeros\n",
        "print(q_table)"
      ]
    },
    {
      "cell_type": "code",
      "execution_count": null,
      "id": "dab7a14c",
      "metadata": {
        "id": "dab7a14c"
      },
      "outputs": [],
      "source": [
        "# Set hyperparameters\n",
        "num_episodes = 10000\n",
        "max_steps_per_episode = 100 # if agent havent reach the goal by 100 step agent will recieve 0 points and new episode will start\n",
        "\n",
        "\n",
        "learning_rate = 0.1 # aplha\n",
        "discount_rate = 0.99 #gamma\n",
        "\n",
        "# epsilon greedy strategy\n",
        "exploration_rate = 1 #epsilon\n",
        "max_exploration_rate = 1\n",
        "min_exploration_rate = 0.01\n",
        "exploration_decay_rate = 0.001 # determine the rate at which the exploration rate will decay\n",
        "# first agent explore the environment epsilon = 1 then after each episode epsilon start to decrease and probability of\n",
        "# exploring decrease and tend toward exploiting the environment."
      ]
    },
    {
      "cell_type": "code",
      "execution_count": null,
      "id": "fbb2bbbd",
      "metadata": {
        "colab": {
          "base_uri": "https://localhost:8080/"
        },
        "id": "fbb2bbbd",
        "outputId": "72625897-0bc2-46d0-bf2f-cd66638bffc1"
      },
      "outputs": [
        {
          "output_type": "stream",
          "name": "stdout",
          "text": [
            "*****Average reward per thousand episodes******\n",
            "\n",
            "1000 :  -245.41799999999992\n",
            "2000 :  -36.40199999999995\n",
            "3000 :  2.1549999999999936\n",
            "4000 :  5.874999999999978\n",
            "5000 :  6.813999999999961\n",
            "6000 :  7.305999999999968\n",
            "7000 :  7.256999999999966\n",
            "8000 :  7.569999999999966\n",
            "9000 :  7.4189999999999525\n",
            "10000 :  7.672999999999968\n",
            "\n",
            "\n",
            "*****Q-table*****\n",
            "[[  0.           0.           0.           0.           0.\n",
            "    0.        ]\n",
            " [  0.23293784   0.90927919  -0.8983074    0.51466107   9.6220697\n",
            "   -9.06361301]\n",
            " [  5.24444611   9.62140261   3.71929389   5.86730715  14.11880599\n",
            "   -1.55264263]\n",
            " ...\n",
            " [ -1.04890958  12.60355686  -0.87229527  -1.04239506  -6.93355943\n",
            "   -8.52379732]\n",
            " [ -2.69626579  -2.74686908  -2.7665515    6.38256196 -10.35742999\n",
            "  -10.59541701]\n",
            " [ -0.1999       1.61480328   0.2686028   18.28648957  -1.62029393\n",
            "   -1.9       ]]\n"
          ]
        }
      ],
      "source": [
        "# List of rewards\n",
        "rewards_all_episodes = []\n",
        "\n",
        "# 2 Q learning algorithm - For life or until learning is stopped\n",
        "for episode in range(num_episodes): #this loop contain everything that happen with a single episode\n",
        "    # Reset the environment back to the starting state\n",
        "    state = env.reset()[0]\n",
        "    done = False # starting out with environment state not done\n",
        "    rewards_current_episode = 0 # starting out with zero rewards\n",
        "\n",
        "    for step in range(max_steps_per_episode): #this loop contain everything that happen with a single time step in each episode\n",
        "        # 3. Choose an action a in the current world state (s)\n",
        "        ## First we randomize a number\n",
        "        ### Exploration - exploitation trade-off\n",
        "        exploration_rate_threshold = random.uniform(0, 1) #this will be used to determine if agen will explore or exploit the environment\n",
        "\n",
        "        ## If this number > greater than epsilon --> exploitation (taking the biggest Q value for this state)\n",
        "        if exploration_rate_threshold > exploration_rate:\n",
        "            action = np.argmax(q_table[state,:]) # chossing the biggest q value\n",
        "\n",
        "        # Else doing a random choice --> exploration\n",
        "        else:\n",
        "            action = env.action_space.sample()\n",
        "\n",
        "        # Take the action (a) and observe the outcome state(s') and reward (r)\n",
        "        new_state, reward, done, truncated, info = env.step(action)\n",
        "\n",
        "        # Update Q(s,a):= Q(s,a) + lr [R(s,a) + gamma * max Q(s',a') - Q(s,a)]\n",
        "        # qtable[new_state,:] : all the actions we can take from new state\n",
        "        q_table[state, action] = q_table[state, action] * (1-learning_rate) + \\\n",
        "            learning_rate * (reward + discount_rate * np.max(q_table[new_state, :]))\n",
        "\n",
        "        # new q value is the weighted sum of old q value and the learned value\n",
        "        # Learning rate in how quickly the agent abendends the q value in Q-table for new q-value\n",
        "\n",
        "\n",
        "\n",
        "        # Our new state is state\n",
        "        state = new_state\n",
        "        rewards_current_episode += reward\n",
        "\n",
        "        # If done (if we're dead) : finish episode\n",
        "        if done == True:\n",
        "            break\n",
        "\n",
        "    # Reduce epsilon (because we need less and less exploration)\n",
        "    ## Exploration rate decay\n",
        "    exploration_rate = min_exploration_rate + \\\n",
        "        (max_exploration_rate - min_exploration_rate) * np.exp(-exploration_decay_rate*episode)\n",
        "\n",
        "    rewards_all_episodes.append(rewards_current_episode)\n",
        "\n",
        "\n",
        "# calculate and print the average rewards per thousand episodes\n",
        "rewards_per_thousand_episodes = np.split(np.array(rewards_all_episodes),num_episodes/1000)\n",
        "count = 1000\n",
        "print(\"*****Average reward per thousand episodes******\\n\")\n",
        "for r in rewards_per_thousand_episodes:\n",
        "    print(count, \": \", str(sum(r/1000)))\n",
        "    count += 1000\n",
        "# print updated q table\n",
        "print(\"\\n\\n*****Q-table*****\")\n",
        "print(q_table)"
      ]
    },
    {
      "cell_type": "code",
      "execution_count": null,
      "id": "acf0926b",
      "metadata": {
        "colab": {
          "base_uri": "https://localhost:8080/"
        },
        "id": "acf0926b",
        "outputId": "7106e523-f915-4286-cb69-3d6e432ff846"
      },
      "outputs": [
        {
          "output_type": "stream",
          "name": "stdout",
          "text": [
            "+---------+\n",
            "|R: | : :\u001b[35m\u001b[34;1m\u001b[43mG\u001b[0m\u001b[0m\u001b[0m|\n",
            "| : | : : |\n",
            "| : : : : |\n",
            "| | : | : |\n",
            "|Y| : |B: |\n",
            "+---------+\n",
            "  (Dropoff)\n",
            "\n",
            "****You reached the goal!****\n"
          ]
        }
      ],
      "source": [
        "# Watch our agent play Taxi game by playing the best action\n",
        "# from each state according to the Q-table\n",
        "\n",
        "for episode in range(5):\n",
        "    # initialize new episode params\n",
        "    state = env.reset()[0]\n",
        "    done = False\n",
        "    print(\"*****EPISODE \", episode+1, \"*****\\n\\n\\n\\n\")\n",
        "    time.sleep(1)\n",
        "\n",
        "    for step in range(max_steps_per_episode):\n",
        "        # Show current state of environment on screen\n",
        "        # Choose action with highest Q-value for current state\n",
        "        # Take new action\n",
        "        clear_output(wait=True) # clear the output for new episode\n",
        "        print(env.render()) # to see the game grid and see where our agent is\n",
        "        time.sleep(0.3)\n",
        "\n",
        "        action = np.argmax(q_table[state,:])\n",
        "        new_state, reward, done, truncated, info= env.step(action)\n",
        "\n",
        "\n",
        "        if done:\n",
        "            clear_output(wait=True)\n",
        "            print(env.render())\n",
        "            if reward == 1:\n",
        "                print(\"****You reached the goal!****\")\n",
        "                time.sleep(3)\n",
        "            else:\n",
        "                print(\"****You reached the goal!****\")\n",
        "                time.sleep(3)\n",
        "                clear_output(wait=True)\n",
        "            break\n",
        "\n",
        "        state = new_state\n",
        "\n",
        "\n",
        "env.close()"
      ]
    }
  ],
  "metadata": {
    "kernelspec": {
      "display_name": "Python 3",
      "name": "python3"
    },
    "language_info": {
      "codemirror_mode": {
        "name": "ipython",
        "version": 3
      },
      "file_extension": ".py",
      "mimetype": "text/x-python",
      "name": "python",
      "nbconvert_exporter": "python",
      "pygments_lexer": "ipython3",
      "version": "3.9.13"
    },
    "colab": {
      "provenance": [],
      "gpuType": "T4"
    },
    "accelerator": "GPU"
  },
  "nbformat": 4,
  "nbformat_minor": 5
}